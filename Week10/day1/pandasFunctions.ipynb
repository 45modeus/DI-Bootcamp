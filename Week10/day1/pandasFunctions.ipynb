{
 "cells": [
  {
   "cell_type": "code",
   "execution_count": 1,
   "id": "61e40ee3",
   "metadata": {},
   "outputs": [
    {
     "name": "stdout",
     "output_type": "stream",
     "text": [
      "    Fruit  Quantity  Original_Price   Supplier\n",
      "0   Apple        20             3.0  Supplier1\n",
      "1  Banana        30             2.0  Supplier2\n",
      "2  Cherry        15             4.0  Supplier1\n",
      "3    Date        10             5.0  Supplier2\n",
      "4  Grapes        25             2.5  Supplier1\n"
     ]
    },
    {
     "data": {
      "text/html": [
       "<div>\n",
       "<style scoped>\n",
       "    .dataframe tbody tr th:only-of-type {\n",
       "        vertical-align: middle;\n",
       "    }\n",
       "\n",
       "    .dataframe tbody tr th {\n",
       "        vertical-align: top;\n",
       "    }\n",
       "\n",
       "    .dataframe thead th {\n",
       "        text-align: right;\n",
       "    }\n",
       "</style>\n",
       "<table border=\"1\" class=\"dataframe\">\n",
       "  <thead>\n",
       "    <tr style=\"text-align: right;\">\n",
       "      <th></th>\n",
       "      <th>Fruit</th>\n",
       "      <th>Quantity</th>\n",
       "      <th>Original_Price</th>\n",
       "      <th>Supplier</th>\n",
       "      <th>Updated_price</th>\n",
       "    </tr>\n",
       "  </thead>\n",
       "  <tbody>\n",
       "    <tr>\n",
       "      <th>0</th>\n",
       "      <td>Apple</td>\n",
       "      <td>20</td>\n",
       "      <td>3.0</td>\n",
       "      <td>Supplier1</td>\n",
       "      <td>2.0</td>\n",
       "    </tr>\n",
       "    <tr>\n",
       "      <th>1</th>\n",
       "      <td>Banana</td>\n",
       "      <td>30</td>\n",
       "      <td>2.0</td>\n",
       "      <td>Supplier2</td>\n",
       "      <td>1.2</td>\n",
       "    </tr>\n",
       "    <tr>\n",
       "      <th>2</th>\n",
       "      <td>Cherry</td>\n",
       "      <td>15</td>\n",
       "      <td>4.0</td>\n",
       "      <td>Supplier1</td>\n",
       "      <td>NaN</td>\n",
       "    </tr>\n",
       "    <tr>\n",
       "      <th>3</th>\n",
       "      <td>Date</td>\n",
       "      <td>10</td>\n",
       "      <td>5.0</td>\n",
       "      <td>Supplier2</td>\n",
       "      <td>NaN</td>\n",
       "    </tr>\n",
       "    <tr>\n",
       "      <th>4</th>\n",
       "      <td>Grapes</td>\n",
       "      <td>25</td>\n",
       "      <td>2.5</td>\n",
       "      <td>Supplier1</td>\n",
       "      <td>2.5</td>\n",
       "    </tr>\n",
       "  </tbody>\n",
       "</table>\n",
       "</div>"
      ],
      "text/plain": [
       "    Fruit  Quantity  Original_Price   Supplier  Updated_price\n",
       "0   Apple        20             3.0  Supplier1            2.0\n",
       "1  Banana        30             2.0  Supplier2            1.2\n",
       "2  Cherry        15             4.0  Supplier1            NaN\n",
       "3    Date        10             5.0  Supplier2            NaN\n",
       "4  Grapes        25             2.5  Supplier1            2.5"
      ]
     },
     "execution_count": 1,
     "metadata": {},
     "output_type": "execute_result"
    }
   ],
   "source": [
    "import pandas as pd\n",
    "import numpy as np\n",
    "\n",
    "# Creating a DataFrame with data for the fruit vendor\n",
    "data = {\n",
    "    \"Fruit\": [\"Apple\", \"Banana\", \"Cherry\", \"Date\", \"Grapes\"],\n",
    "    \"Quantity\": [20, 30, 15, 10, 25], \n",
    "    \"Original_Price\": [3, 2, 4, 5, 2.5],\n",
    "    \"Supplier\": [\"Supplier1\", \"Supplier2\", \"Supplier1\", \"Supplier2\", \"Supplier1\"]\n",
    "}\n",
    "\n",
    "df = pd.DataFrame(data)\n",
    "\n",
    "# Display the DataFrame\n",
    "print(df)\n",
    "def get_new_price(name):\n",
    "    if(name == \"Banana\"):\n",
    "        return 1.2\n",
    "    if(name == \"Apple\"):\n",
    "        return 2\n",
    "    if(name == \"Grapes\"):\n",
    "        return 2.5\n",
    "    \n",
    "df['Updated_price'] = df['Fruit'].map(get_new_price)\n",
    "df"
   ]
  }
 ],
 "metadata": {
  "kernelspec": {
   "display_name": ".venv",
   "language": "python",
   "name": "python3"
  },
  "language_info": {
   "codemirror_mode": {
    "name": "ipython",
    "version": 3
   },
   "file_extension": ".py",
   "mimetype": "text/x-python",
   "name": "python",
   "nbconvert_exporter": "python",
   "pygments_lexer": "ipython3",
   "version": "3.10.12"
  }
 },
 "nbformat": 4,
 "nbformat_minor": 5
}
