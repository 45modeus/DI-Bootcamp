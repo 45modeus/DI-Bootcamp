{
 "cells": [
  {
   "cell_type": "code",
   "execution_count": 1,
   "id": "988ba2fa",
   "metadata": {},
   "outputs": [
    {
     "name": "stdout",
     "output_type": "stream",
     "text": [
      "          Quantity  Colors  Price per kg\n",
      "Apples          20     Red             3\n",
      "Bananas         30  Yellow             2\n",
      "Cherries        15     Red             4\n",
      "Dates           10   Brown             5\n",
      "          Quantity  Colors  Price per kg\n",
      "Apples          20     Red             3\n",
      "Bananas         30  Yellow             2\n",
      "Cherries        15     Red             4\n",
      "          Quantity  Colors  Price per kg\n",
      "Bananas         30  Yellow             2\n",
      "Cherries        15     Red             4\n",
      "Dates           10   Brown             5\n",
      "<class 'pandas.core.frame.DataFrame'>\n",
      "Index: 4 entries, Apples to Dates\n",
      "Data columns (total 3 columns):\n",
      " #   Column        Non-Null Count  Dtype \n",
      "---  ------        --------------  ----- \n",
      " 0   Quantity      4 non-null      int64 \n",
      " 1   Colors        4 non-null      object\n",
      " 2   Price per kg  4 non-null      int64 \n",
      "dtypes: int64(2), object(1)\n",
      "memory usage: 128.0+ bytes\n",
      "None\n",
      "        Quantity  Price per kg\n",
      "count   4.000000      4.000000\n",
      "mean   18.750000      3.500000\n",
      "std     8.539126      1.290994\n",
      "min    10.000000      2.000000\n",
      "25%    13.750000      2.750000\n",
      "50%    17.500000      3.500000\n",
      "75%    22.500000      4.250000\n",
      "max    30.000000      5.000000\n"
     ]
    }
   ],
   "source": [
    "import pandas as pd\n",
    "import numpy as np\n",
    "\n",
    "df = pd.DataFrame({\n",
    "    \"Quantity\":[20, 30, 15, 10],\n",
    "    \"Colors\":[\"Red\", \"Yellow\", \"Red\", \"Brown\"],\n",
    "    \"Price per kg\": [3, 2, 4, 5]}, index=[\"Apples\", \"Bananas\", \"Cherries\", \"Dates\"])\n",
    "print(df)\n",
    "\n",
    "#head\n",
    "#returns the first 3 row of the DF\n",
    "print(df.head(3))\n",
    "\n",
    "#tail\n",
    "#return the last 3 row\n",
    "print(df.tail(3))\n",
    "\n",
    "#info\n",
    "print(df.info())\n",
    "\n",
    "#describe\n",
    "print(df.describe())"
   ]
  },
  {
   "cell_type": "code",
   "execution_count": 2,
   "id": "9313425c",
   "metadata": {},
   "outputs": [
    {
     "name": "stdout",
     "output_type": "stream",
     "text": [
      "          Quantity  Colors  Price per kg\n",
      "Apples          20     Red             3\n",
      "Bananas         30  Yellow             2\n",
      "Cherries        15     Red             4\n",
      "Dates           10   Brown             5\n",
      "          Quantity  Colors  Price per kg\n",
      "Bananas         30  Yellow             2\n",
      "Apples          20     Red             3\n",
      "Cherries        15     Red             4\n"
     ]
    }
   ],
   "source": [
    "df = pd.DataFrame({\n",
    "    \"Quantity\":[20, 30, 15, 10],\n",
    "    \"Colors\":[\"Red\", \"Yellow\", \"Red\", \"Brown\"],\n",
    "    \"Price per kg\": [3, 2, 4, 5]}, index=[\"Apples\", \"Bananas\", \"Cherries\", \"Dates\"])\n",
    "print(df)\n",
    "\n",
    "df['Quantity'].sum()\n",
    "\n",
    "print(df.nlargest(3, 'Quantity'))"
   ]
  },
  {
   "cell_type": "code",
   "execution_count": 3,
   "id": "dfdda23b",
   "metadata": {},
   "outputs": [
    {
     "name": "stdout",
     "output_type": "stream",
     "text": [
      "          Quantity  Colors  Price per kg\n",
      "Apples          20     Red             3\n",
      "Bananas         30  Yellow             2\n",
      "Cherries        15     Red             4\n",
      "Dates           10   Brown             5\n"
     ]
    },
    {
     "data": {
      "text/plain": [
       "np.int64(30)"
      ]
     },
     "execution_count": 3,
     "metadata": {},
     "output_type": "execute_result"
    }
   ],
   "source": [
    "df = pd.DataFrame({\n",
    "    \"Quantity\":[20, 30, 15, 10],\n",
    "    \"Colors\":[\"Red\", \"Yellow\", \"Red\", \"Brown\"],\n",
    "    \"Price per kg\": [3, 2, 4, 5]}, index=[\"Apples\", \"Bananas\", \"Cherries\", \"Dates\"])\n",
    "\n",
    "print(df)\n",
    "\n",
    "df.iloc[1,0]"
   ]
  },
  {
   "cell_type": "code",
   "execution_count": 4,
   "id": "74394637",
   "metadata": {},
   "outputs": [
    {
     "name": "stdout",
     "output_type": "stream",
     "text": [
      "          Quantity  Colors  Price per kg  Sale_price\n",
      "Apples          20     Red             3         2.7\n",
      "Bananas         30  Yellow             2         1.8\n",
      "Cherries        15     Red             4         3.6\n",
      "Dates           10   Brown             5         4.5\n",
      "          Quantity  Price per kg  Sale_price\n",
      "Apples          20             3         2.7\n",
      "Bananas         30             2         1.8\n",
      "Cherries        15             4         3.6\n",
      "Dates           10             5         4.5\n"
     ]
    }
   ],
   "source": [
    "df = pd.DataFrame({\n",
    "    \"Quantity\":[20, 30, 15, 10],\n",
    "    \"Colors\":[\"Red\", \"Yellow\", \"Red\", \"Brown\"],\n",
    "    \"Price per kg\": [3, 2, 4, 5]}, index=[\"Apples\", \"Bananas\", \"Cherries\", \"Dates\"])\n",
    "\n",
    "df['Sale_price'] = df['Price per kg'] * 0.9\n",
    "print(df)\n",
    "\n",
    "df.rename(columns={'Price per kg': 'Original price'})\n",
    "\n",
    "df.drop('Colors', axis=1, inplace=True)\n",
    "print(df)"
   ]
  },
  {
   "cell_type": "code",
   "execution_count": 5,
   "id": "4f5a3198",
   "metadata": {},
   "outputs": [
    {
     "name": "stdout",
     "output_type": "stream",
     "text": [
      "Quantity    75.0\n",
      "dtype: float64\n",
      "Quantity    30.0\n",
      "dtype: float64\n",
      "Quantity    10.0\n",
      "dtype: float64\n",
      "Price    3.5\n",
      "dtype: float64\n"
     ]
    }
   ],
   "source": [
    "import numpy as np\n",
    "\n",
    "df = pd.DataFrame({\n",
    "    \"Quantity\":[20, 30, 15, 10],\n",
    "    \"Colors\":[\"Red\", \"Yellow\", \"Red\", \"Brown\"],\n",
    "    \"Price per kg\": [3, 2, 4, 5]}, index=[\"Apples\", \"Bananas\", \"Cherries\", \"Dates\"])\n",
    "\n",
    "new_data = pd.DataFrame({\"Fruit\": [\"Grapes\"], \"Quantity\": [np.nan], \"Price\": [3.5]})\n",
    "\n",
    "df = pd.concat([df, new_data])\n",
    "\n",
    "df\n",
    "\n",
    "print(df[['Quantity']].sum())\n",
    "\n",
    "print(df[['Quantity']].max())\n",
    "\n",
    "print(df[['Quantity']].min())\n",
    "\n",
    "print(df[['Price']].mean())\n",
    "\n",
    "#df['Quantity'].dtype\n",
    "\n",
    "#df['Quantity'] = df['Quantity'].astype(int)"
   ]
  },
  {
   "cell_type": "code",
   "execution_count": null,
   "id": "1dfcdb05",
   "metadata": {},
   "outputs": [],
   "source": []
  }
 ],
 "metadata": {
  "kernelspec": {
   "display_name": ".venv",
   "language": "python",
   "name": "python3"
  },
  "language_info": {
   "codemirror_mode": {
    "name": "ipython",
    "version": 3
   },
   "file_extension": ".py",
   "mimetype": "text/x-python",
   "name": "python",
   "nbconvert_exporter": "python",
   "pygments_lexer": "ipython3",
   "version": "3.10.12"
  }
 },
 "nbformat": 4,
 "nbformat_minor": 5
}
