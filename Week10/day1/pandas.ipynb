{
 "cells": [
  {
   "cell_type": "code",
   "execution_count": 1,
   "id": "0b01103e",
   "metadata": {},
   "outputs": [
    {
     "name": "stdout",
     "output_type": "stream",
     "text": [
      "    brand_name                            model  price  rating  has_5g  \\\n",
      "0      oneplus                    OnePlus 11 5G  54999    89.0    True   \n",
      "1      oneplus        OnePlus Nord CE 2 Lite 5G  19989    81.0    True   \n",
      "2      samsung            Samsung Galaxy A14 5G  16499    75.0    True   \n",
      "3     motorola             Motorola Moto G62 5G  14999    81.0    True   \n",
      "4       realme               Realme 10 Pro Plus  24999    82.0    True   \n",
      "..         ...                              ...    ...     ...     ...   \n",
      "975   motorola       Motorola Moto Edge S30 Pro  34990    83.0    True   \n",
      "976      honor                      Honor X8 5G  14990    75.0    True   \n",
      "977       poco  POCO X4 GT 5G (8GB RAM + 256GB)  28990    85.0    True   \n",
      "978   motorola             Motorola Moto G91 5G  19990    80.0    True   \n",
      "979    samsung           Samsung Galaxy M52s 5G  24990    74.0    True   \n",
      "\n",
      "     has_nfc  has_ir_blaster processor_brand  num_cores  processor_speed  ...  \\\n",
      "0       True           False      snapdragon        8.0             3.20  ...   \n",
      "1      False           False      snapdragon        8.0             2.20  ...   \n",
      "2      False           False          exynos        8.0             2.40  ...   \n",
      "3      False           False      snapdragon        8.0             2.20  ...   \n",
      "4      False           False       dimensity        8.0             2.60  ...   \n",
      "..       ...             ...             ...        ...              ...  ...   \n",
      "975    False           False      snapdragon        8.0             3.00  ...   \n",
      "976    False           False      snapdragon        8.0             2.20  ...   \n",
      "977     True            True       dimensity        8.0             2.85  ...   \n",
      "978     True           False      snapdragon        8.0             2.20  ...   \n",
      "979    False           False             NaN        8.0              NaN  ...   \n",
      "\n",
      "     refresh_rate  num_rear_cameras  num_front_cameras       os  \\\n",
      "0             120                 3                1.0  android   \n",
      "1             120                 3                1.0  android   \n",
      "2              90                 3                1.0  android   \n",
      "3             120                 3                1.0  android   \n",
      "4             120                 3                1.0  android   \n",
      "..            ...               ...                ...      ...   \n",
      "975           120                 3                1.0  android   \n",
      "976            60                 3                1.0  android   \n",
      "977           144                 3                1.0  android   \n",
      "978            60                 3                1.0  android   \n",
      "979            60                 3                1.0  android   \n",
      "\n",
      "     primary_camera_rear  primary_camera_front  extended_memory_available  \\\n",
      "0                   50.0                  16.0                          0   \n",
      "1                   64.0                  16.0                          1   \n",
      "2                   50.0                  13.0                          1   \n",
      "3                   50.0                  16.0                          1   \n",
      "4                  108.0                  16.0                          0   \n",
      "..                   ...                   ...                        ...   \n",
      "975                 64.0                  16.0                          0   \n",
      "976                 48.0                   8.0                          1   \n",
      "977                 64.0                  16.0                          0   \n",
      "978                108.0                  32.0                          1   \n",
      "979                 64.0                  32.0                          1   \n",
      "\n",
      "     extended_upto  resolution_width resolution_height  \n",
      "0              NaN              1440              3216  \n",
      "1           1024.0              1080              2412  \n",
      "2           1024.0              1080              2408  \n",
      "3           1024.0              1080              2400  \n",
      "4              NaN              1080              2412  \n",
      "..             ...               ...               ...  \n",
      "975            NaN              1080              2460  \n",
      "976         1024.0               720              1600  \n",
      "977            NaN              1080              2460  \n",
      "978         1024.0              1080              2400  \n",
      "979         1024.0              1080              2400  \n",
      "\n",
      "[980 rows x 26 columns]\n"
     ]
    }
   ],
   "source": [
    "import pandas as pd\n",
    "\n",
    "df = pd.read_csv('Smartphones_cleaned_dataset.csv')\n",
    "print(df)"
   ]
  },
  {
   "cell_type": "code",
   "execution_count": null,
   "id": "62d9a45b",
   "metadata": {},
   "outputs": [
    {
     "name": "stdout",
     "output_type": "stream",
     "text": [
      "          Quantity  Colors  Price per kg\n",
      "Apples          20     Red             3\n",
      "Bananas         30  Yellow             2\n",
      "Cherries        15     Red             4\n",
      "Dates           10   Brown             5\n"
     ]
    }
   ],
   "source": [
    "#exercise 1\n",
    "df = pd.DataFrame({\n",
    "    \"Quantity\":[20, 30, 15, 10],\n",
    "    \"Colors\":[\"Red\", \"Yellow\", \"Red\", \"Brown\"],\n",
    "    \"Price per kg\": [3, 2, 4, 5]}, index=[\"Apples\", \"Bananas\", \"Cherries\", \"Dates\"])\n",
    "print(df)\n",
    "\n",
    "df.to_csv('store_1_stock.csv', index=False)"
   ]
  },
  {
   "cell_type": "code",
   "execution_count": 19,
   "id": "4a874a23",
   "metadata": {},
   "outputs": [
    {
     "name": "stdout",
     "output_type": "stream",
     "text": [
      "   Quantity  Colors  Price per kg\n",
      "0        20     Red             3\n",
      "1        30  Yellow             2\n",
      "2        15     Red             4\n",
      "3        10   Brown             5\n"
     ]
    }
   ],
   "source": [
    "store_1_stock = pd.read_csv('store_1_stock.csv')\n",
    "print(store_1_stock)"
   ]
  }
 ],
 "metadata": {
  "kernelspec": {
   "display_name": "Python 3",
   "language": "python",
   "name": "python3"
  },
  "language_info": {
   "codemirror_mode": {
    "name": "ipython",
    "version": 3
   },
   "file_extension": ".py",
   "mimetype": "text/x-python",
   "name": "python",
   "nbconvert_exporter": "python",
   "pygments_lexer": "ipython3",
   "version": "3.13.3"
  }
 },
 "nbformat": 4,
 "nbformat_minor": 5
}
