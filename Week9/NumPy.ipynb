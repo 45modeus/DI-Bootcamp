{
 "cells": [
  {
   "cell_type": "code",
   "execution_count": 1,
   "id": "c64f9394",
   "metadata": {},
   "outputs": [
    {
     "name": "stdout",
     "output_type": "stream",
     "text": [
      "[ 2  4  6  8 10]\n"
     ]
    }
   ],
   "source": [
    "import numpy as np\n",
    "\n",
    "#Numpy array\n",
    "array = np.array([1, 2, 3, 4, 5])\n",
    "\n",
    "#perform an operation on the array\n",
    "double = array * 2\n",
    "\n",
    "print(double) #outputs: array * 2"
   ]
  },
  {
   "cell_type": "code",
   "execution_count": 2,
   "id": "86c55eb9",
   "metadata": {},
   "outputs": [
    {
     "name": "stdout",
     "output_type": "stream",
     "text": [
      "1\n",
      "(5,)\n",
      "5\n",
      "int64\n"
     ]
    }
   ],
   "source": [
    "import numpy as np\n",
    "\n",
    "# Create a 1D NumPy array\n",
    "array_1d = np.array([1, 2, 3, 4, 5])\n",
    "\n",
    "# Check properties of the array\n",
    "print(array_1d.ndim)  # Output: 1\n",
    "print(array_1d.shape)  # Output: (5,)\n",
    "print(array_1d.size)  # Output: 5\n",
    "print(array_1d.dtype)  # Output: int64"
   ]
  },
  {
   "cell_type": "code",
   "execution_count": 8,
   "id": "53b59fc1",
   "metadata": {},
   "outputs": [
    {
     "name": "stdout",
     "output_type": "stream",
     "text": [
      "[10 11 12 13 14 15 16 17 18 19 20]\n",
      "1\n",
      "(11,)\n",
      "11\n",
      "int64\n",
      "float64\n",
      "[1.  1.1 1.2 1.3 1.4 1.5 1.6 1.7 1.8 1.9 2. ]\n",
      "float64\n",
      "[2.  2.2 2.4 2.6 2.8 3.  3.2 3.4 3.6 3.8 4. ]\n"
     ]
    }
   ],
   "source": [
    "import numpy as np\n",
    "\n",
    "#1 \n",
    "array_1d = np.array([10, 11, 12, 13, 14, 15, 16, 17, 18, 19, 20])\n",
    "print(array_1d)\n",
    "\n",
    "#2\n",
    "print(array_1d.ndim)\n",
    "print(array_1d.shape)\n",
    "print(array_1d.size)\n",
    "print(array_1d.dtype)\n",
    "\n",
    "\n",
    "#3\n",
    "array = np.array([1.0, 1.1, 1.2, 1.3, 1.4, 1.5, 1.6, 1.7, 1.8, 1.9, 2.0])\n",
    "print(array.dtype)\n",
    "\n",
    "#convertfloatarray\n",
    "float_array = array.astype('float64')\n",
    "\n",
    "print(float_array)\n",
    "print(float_array.dtype)\n",
    "\n",
    "double = float_array * 2\n",
    "\n",
    "print(double)"
   ]
  }
 ],
 "metadata": {
  "kernelspec": {
   "display_name": ".venv",
   "language": "python",
   "name": "python3"
  },
  "language_info": {
   "codemirror_mode": {
    "name": "ipython",
    "version": 3
   },
   "file_extension": ".py",
   "mimetype": "text/x-python",
   "name": "python",
   "nbconvert_exporter": "python",
   "pygments_lexer": "ipython3",
   "version": "3.10.12"
  }
 },
 "nbformat": 4,
 "nbformat_minor": 5
}
