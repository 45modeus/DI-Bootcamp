{
 "cells": [
  {
   "cell_type": "code",
   "execution_count": null,
   "id": "af224c8a",
   "metadata": {},
   "outputs": [],
   "source": [
    "import random"
   ]
  },
  {
   "cell_type": "code",
   "execution_count": 22,
   "id": "5aa83342",
   "metadata": {},
   "outputs": [],
   "source": [
    "def choose_word(logger=False): #choose a random word\n",
    "    \n",
    "    wordslist = ['correction', 'childish', 'beach', 'python', 'assertive', 'interference', 'complete', 'share', 'credit card', 'rush', 'south']\n",
    "    \n",
    "    word = random.choice(wordslist)\n",
    "\n",
    "    MAX_WRONG = len(word) - 1\n",
    "\n",
    "    wordlenght = \"_\" * len(wordslist)\n",
    "\n",
    "    wrongguess = 0\n",
    "\n",
    "    letterused = []\n",
    "\n",
    "    print (\"Welcome to Hangman\")\n",
    "\n",
    "    while wrongguess < MAX_WRONG and wordlenght != word:\n",
    "        print(word[wrongguess])\n",
    "        print(\"\\nThe following letters has been used\\n\", letterused)\n",
    "        print(\"\\nYou have guessed\\n\", wordlenght)\n"
   ]
  }
 ],
 "metadata": {
  "kernelspec": {
   "display_name": "Python 3",
   "language": "python",
   "name": "python3"
  },
  "language_info": {
   "codemirror_mode": {
    "name": "ipython",
    "version": 3
   },
   "file_extension": ".py",
   "mimetype": "text/x-python",
   "name": "python",
   "nbconvert_exporter": "python",
   "pygments_lexer": "ipython3",
   "version": "3.13.3"
  }
 },
 "nbformat": 4,
 "nbformat_minor": 5
}
