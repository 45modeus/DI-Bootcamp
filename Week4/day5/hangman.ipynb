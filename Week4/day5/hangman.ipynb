{
 "cells": [
  {
   "cell_type": "code",
   "execution_count": 1,
   "id": "af224c8a",
   "metadata": {},
   "outputs": [],
   "source": [
    "import random"
   ]
  },
  {
   "cell_type": "code",
   "execution_count": 2,
   "id": "5aa83342",
   "metadata": {},
   "outputs": [],
   "source": [
    "#Choose random word\n",
    "\n",
    "def choose_word():\n",
    "    wordslist = ['correction', 'childish', 'beach', 'python', 'assertive', 'interference', 'complete', 'share', 'credit card', 'rush', 'south']\n",
    "    return random.choice(wordslist)\n"
   ]
  },
  {
   "cell_type": "code",
   "execution_count": null,
   "id": "a08a23da",
   "metadata": {},
   "outputs": [
    {
     "name": "stdout",
     "output_type": "stream",
     "text": [
      "_ _ _ _ _ _ _ _ _ _\n",
      "Lives left: 10\n",
      "Invalid input. Please enter a single letter.\n",
      "_ _ _ _ _ _ _ _ _ _\n",
      "Lives left: 10\n",
      "c _ _ _ _ c _ _ _ _\n",
      "Lives left: 10\n",
      "You already guessed that letter.\n",
      "c _ _ _ _ c _ _ _ _\n",
      "Lives left: 10\n",
      "Incorrect guess.\n",
      "c _ _ _ _ c _ _ _ _\n",
      "Lives left: 9\n"
     ]
    }
   ],
   "source": [
    "#display the word\n",
    "\n",
    "def display_word(wordslist, guessed_letters):\n",
    "    display = \"\"\n",
    "    for letter in wordslist:\n",
    "        if letter in guessed_letters:\n",
    "            display += letter + \" \"\n",
    "        else:\n",
    "            display += \"_ \"\n",
    "    return display.strip()\n",
    "\n",
    "#Hangman\n",
    "\n",
    "def hangman():\n",
    "    correct_word = choose_word()\n",
    "    guessed_letters = []\n",
    "    lives = len(list(correct_word))\n",
    "\n",
    "    while lives > 0:\n",
    "        print(display_word(correct_word, guessed_letters))\n",
    "        print(f\"Lives left: {lives}\")\n",
    "        guess = input(\"Guess a letter: \").lower()\n",
    "\n",
    "        if len(guess) != 1 or not guess.isalpha():\n",
    "            print(\"Invalid input. Please enter a single letter.\")\n",
    "            continue\n",
    "\n",
    "        if guess in guessed_letters:\n",
    "            print(\"You already guessed that letter.\")\n",
    "            continue\n",
    "\n",
    "        guessed_letters.append(guess)\n",
    "\n",
    "        if guess in correct_word:\n",
    "            if \"_\" not in display_word(correct_word, guessed_letters):\n",
    "                print(f\"Congratulations! You guessed the word: {correct_word}\")\n",
    "                return\n",
    "        else:\n",
    "            lives -= 1\n",
    "            print(\"Incorrect guess.\")\n",
    "\n",
    "    print(f\"You lost. The word was: {correct_word}\")\n",
    "\n",
    "if __name__ == \"__main__\":\n",
    "    hangman()"
   ]
  }
 ],
 "metadata": {
  "kernelspec": {
   "display_name": "Python 3",
   "language": "python",
   "name": "python3"
  },
  "language_info": {
   "codemirror_mode": {
    "name": "ipython",
    "version": 3
   },
   "file_extension": ".py",
   "mimetype": "text/x-python",
   "name": "python",
   "nbconvert_exporter": "python",
   "pygments_lexer": "ipython3",
   "version": "3.13.3"
  }
 },
 "nbformat": 4,
 "nbformat_minor": 5
}
