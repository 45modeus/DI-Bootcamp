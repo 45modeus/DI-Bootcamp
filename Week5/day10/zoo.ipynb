{
 "cells": [
  {
   "cell_type": "code",
   "execution_count": 7,
   "id": "4072de51",
   "metadata": {},
   "outputs": [
    {
     "name": "stdout",
     "output_type": "stream",
     "text": [
      "Giraffe has been added to the zoo!\n",
      "Bear has been added to the zoo!\n",
      "Baboon has been added to the zoo!\n",
      "The following animals are in the zoo ['Giraffe', 'Bear', 'Baboon']\n",
      "Bear has been sold\n",
      "The following animals are in the zoo ['Giraffe', 'Baboon']\n",
      "B: ['Baboon']\n",
      "G: ['Giraffe']\n"
     ]
    }
   ],
   "source": [
    "class Zoo:\n",
    "    def __init__(self, zoo_name):\n",
    "        self.zoo_name = zoo_name\n",
    "        self.animals = []\n",
    "\n",
    "    def add_animal(self, new_animal):\n",
    "        if new_animal not in self.animals:\n",
    "            self.animals.append(new_animal)\n",
    "            print(f\"{new_animal} has been added to the zoo!\")\n",
    "        else:\n",
    "            print(f\"{new_animal} already exists in the zoo.\")\n",
    "\n",
    "    def get_animals(self):\n",
    "        if not self.animals:\n",
    "            print(\"No animals are in the zoo\")\n",
    "        \n",
    "        else:\n",
    "            print(\"The following animals are in the zoo\", self.animals)\n",
    "\n",
    "    def sell_animal(self, animal_sold):\n",
    "        if animal_sold in self.animals:\n",
    "            self.animals.remove(animal_sold)\n",
    "            print(f\"{animal_sold} has been sold\")\n",
    "        else:\n",
    "            print(f\"{animal_sold} not found in the zoo\")\n",
    "\n",
    "    def sort_animals(self):\n",
    "        self.animals.sort()\n",
    "        self.grouped_animals = {}\n",
    "\n",
    "        for animal in self.animals:\n",
    "            first_letter = animal[0].upper()\n",
    "            if first_letter not in self.grouped_animals:\n",
    "                self.grouped_animals[first_letter] = []\n",
    "            self.grouped_animals[first_letter].append(animal)\n",
    "\n",
    "        return self.grouped_animals\n",
    "\n",
    "    def get_groups(self):\n",
    "        if hasattr(self, 'grouped_animals'):\n",
    "            for group, animals in self.grouped_animals.items():\n",
    "                print(f\"{group}: {animals}\")\n",
    "\n",
    "        else:\n",
    "            print(\"No groups found, please sort the animals first\")\n",
    "\n",
    "\n",
    "# Step 2: Create a Zoo instance\n",
    "ramat_gan_safari = Zoo(\"Ramat Gan Safari\")\n",
    "\n",
    "# Step 3: Use the Zoo methods\n",
    "ramat_gan_safari.add_animal(\"Giraffe\")\n",
    "ramat_gan_safari.add_animal(\"Bear\")\n",
    "ramat_gan_safari.add_animal(\"Baboon\")\n",
    "ramat_gan_safari.get_animals()\n",
    "ramat_gan_safari.sell_animal(\"Bear\")\n",
    "ramat_gan_safari.get_animals()\n",
    "ramat_gan_safari.sort_animals()\n",
    "ramat_gan_safari.get_groups()"
   ]
  }
 ],
 "metadata": {
  "kernelspec": {
   "display_name": ".venv",
   "language": "python",
   "name": "python3"
  },
  "language_info": {
   "codemirror_mode": {
    "name": "ipython",
    "version": 3
   },
   "file_extension": ".py",
   "mimetype": "text/x-python",
   "name": "python",
   "nbconvert_exporter": "python",
   "pygments_lexer": "ipython3",
   "version": "3.10.12"
  }
 },
 "nbformat": 4,
 "nbformat_minor": 5
}
