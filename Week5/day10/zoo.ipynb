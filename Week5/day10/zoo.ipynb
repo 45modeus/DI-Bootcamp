{
 "cells": [
  {
   "cell_type": "code",
   "execution_count": 1,
   "id": "4072de51",
   "metadata": {},
   "outputs": [
    {
     "ename": "TypeError",
     "evalue": "argument of type 'method' is not iterable",
     "output_type": "error",
     "traceback": [
      "\u001b[31m---------------------------------------------------------------------------\u001b[39m",
      "\u001b[31mTypeError\u001b[39m                                 Traceback (most recent call last)",
      "\u001b[36mCell\u001b[39m\u001b[36m \u001b[39m\u001b[32mIn[1]\u001b[39m\u001b[32m, line 51\u001b[39m\n\u001b[32m     48\u001b[39m ramat_gan_safari = Zoo(\u001b[33m\"\u001b[39m\u001b[33mRamat Gan Safari\u001b[39m\u001b[33m\"\u001b[39m)\n\u001b[32m     50\u001b[39m \u001b[38;5;66;03m# Step 3: Use the Zoo methods\u001b[39;00m\n\u001b[32m---> \u001b[39m\u001b[32m51\u001b[39m \u001b[43mramat_gan_safari\u001b[49m\u001b[43m.\u001b[49m\u001b[43madd_animal\u001b[49m\u001b[43m(\u001b[49m\u001b[33;43m\"\u001b[39;49m\u001b[33;43mGiraffe\u001b[39;49m\u001b[33;43m\"\u001b[39;49m\u001b[43m)\u001b[49m\n\u001b[32m     52\u001b[39m ramat_gan_safari.add_animal(\u001b[33m\"\u001b[39m\u001b[33mBear\u001b[39m\u001b[33m\"\u001b[39m)\n\u001b[32m     53\u001b[39m ramat_gan_safari.add_animal(\u001b[33m\"\u001b[39m\u001b[33mBaboon\u001b[39m\u001b[33m\"\u001b[39m)\n",
      "\u001b[36mCell\u001b[39m\u001b[36m \u001b[39m\u001b[32mIn[1]\u001b[39m\u001b[32m, line 7\u001b[39m, in \u001b[36mZoo.add_animal\u001b[39m\u001b[34m(self, new_animal)\u001b[39m\n\u001b[32m      6\u001b[39m \u001b[38;5;28;01mdef\u001b[39;00m\u001b[38;5;250m \u001b[39m\u001b[34madd_animal\u001b[39m(\u001b[38;5;28mself\u001b[39m, new_animal):\n\u001b[32m----> \u001b[39m\u001b[32m7\u001b[39m     \u001b[38;5;28;01mif\u001b[39;00m \u001b[43mnew_animal\u001b[49m\u001b[43m \u001b[49m\u001b[38;5;129;43;01mnot\u001b[39;49;00m\u001b[43m \u001b[49m\u001b[38;5;129;43;01min\u001b[39;49;00m\u001b[43m \u001b[49m\u001b[38;5;28;43mself\u001b[39;49m\u001b[43m.\u001b[49m\u001b[43mget_animals\u001b[49m:\n\u001b[32m      8\u001b[39m         \u001b[38;5;28mprint\u001b[39m(\u001b[33mf\u001b[39m\u001b[33m\"\u001b[39m\u001b[38;5;132;01m{\u001b[39;00mnew_animal\u001b[38;5;132;01m}\u001b[39;00m\u001b[33m has been added to the zoo!\u001b[39m\u001b[33m\"\u001b[39m)\n\u001b[32m      9\u001b[39m     \u001b[38;5;28;01melse\u001b[39;00m:\n",
      "\u001b[31mTypeError\u001b[39m: argument of type 'method' is not iterable"
     ]
    }
   ],
   "source": [
    "class Zoo:\n",
    "    def __init__(self, zoo_name):\n",
    "        self.zoo_name = zoo_name\n",
    "        self.animals = []\n",
    "\n",
    "    def add_animal(self, new_animal):\n",
    "        if new_animal not in self.get_animals:\n",
    "            print(f\"{new_animal} has been added to the zoo!\")\n",
    "        else:\n",
    "            print(f\"{new_animal} already exists in the zoo.\")\n",
    "\n",
    "    def get_animals(self):\n",
    "        if not self.animals:\n",
    "            print(\"No animals are in the zoo\")\n",
    "        \n",
    "        else:\n",
    "            print(\"The following animals are in the zoo\", self.animals)\n",
    "\n",
    "    def sell_animal(self, animal_sold):\n",
    "        if animal_sold in self.animals:\n",
    "            self.animals.remove(animal_sold)\n",
    "            print(f\"{animal_sold} has been sold\")\n",
    "        else:\n",
    "            print(f\"{animal_sold} not found in the zoo\")\n",
    "\n",
    "    def sort_animals(self):\n",
    "        self.animals.sort()\n",
    "        self.grouped_animals = {}\n",
    "\n",
    "        for animal in self.animals:\n",
    "            first_letter = animal[0].upper()\n",
    "            if first_letter not in self.grouped_animals:\n",
    "                self.grouped_animals[first_letter] = []\n",
    "            self.grouped_animals[first_letter].append(animal)\n",
    "\n",
    "        return self.grouped_animals\n",
    "\n",
    "    def get_groups(self):\n",
    "        if hasattr(self, 'grouped_animals'):\n",
    "            for group, animals in self.grouped_animals.items():\n",
    "                print(f\"{group}: {animals}\")\n",
    "\n",
    "        else:\n",
    "            print(\"No groups found, please sort the animals first\")\n",
    "\n",
    "\n",
    "# Step 2: Create a Zoo instance\n",
    "ramat_gan_safari = Zoo(\"Ramat Gan Safari\")\n",
    "\n",
    "# Step 3: Use the Zoo methods\n",
    "ramat_gan_safari.add_animal(\"Giraffe\")\n",
    "ramat_gan_safari.add_animal(\"Bear\")\n",
    "ramat_gan_safari.add_animal(\"Baboon\")\n",
    "ramat_gan_safari.get_animals()\n",
    "ramat_gan_safari.sell_animal(\"Bear\")\n",
    "ramat_gan_safari.get_animals()\n",
    "ramat_gan_safari.sort_animals()\n",
    "ramat_gan_safari.get_groups()"
   ]
  }
 ],
 "metadata": {
  "kernelspec": {
   "display_name": "Python 3",
   "language": "python",
   "name": "python3"
  },
  "language_info": {
   "codemirror_mode": {
    "name": "ipython",
    "version": 3
   },
   "file_extension": ".py",
   "mimetype": "text/x-python",
   "name": "python",
   "nbconvert_exporter": "python",
   "pygments_lexer": "ipython3",
   "version": "3.13.3"
  }
 },
 "nbformat": 4,
 "nbformat_minor": 5
}
