{
 "cells": [
  {
   "cell_type": "code",
   "execution_count": null,
   "id": "4072de51",
   "metadata": {},
   "outputs": [],
   "source": [
    "class zoo:\n",
    "    def __init__(self, zoo_name):\n",
    "        self.zoo_name = zoo_name\n",
    "\n",
    "    def animals(self):\n",
    "        "
   ]
  }
 ],
 "metadata": {
  "language_info": {
   "name": "python"
  }
 },
 "nbformat": 4,
 "nbformat_minor": 5
}
