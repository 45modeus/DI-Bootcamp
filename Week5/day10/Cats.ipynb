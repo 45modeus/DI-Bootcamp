{
 "cells": [
  {
   "cell_type": "code",
   "execution_count": 31,
   "id": "84b5ff67",
   "metadata": {},
   "outputs": [
    {
     "name": "stdout",
     "output_type": "stream",
     "text": [
      "The oldest cat is Flapachat, who is 15 years old.\n"
     ]
    }
   ],
   "source": [
    "class Cat:\n",
    "    def __init__(self, name, age):\n",
    "        self.name = name\n",
    "        self.age = age\n",
    "\n",
    "cat1=Cat('Flapachat', 15)\n",
    "cat2=Cat('Mimi', 9)\n",
    "cat3=Cat('Kitty', 2)\n",
    "\n",
    "cats=[cat1, cat2, cat3]\n",
    "\n",
    "def oldest_cat(cats):\n",
    "    \n",
    "    oldest_cat = max(cats, key=lambda cat: cat.age)\n",
    "    return oldest_cat\n",
    "\n",
    "oldest= oldest_cat(cats)\n",
    "\n",
    "if oldest:\n",
    "    print(f\"The oldest cat is {oldest.name}, who is {oldest.age} years old.\")\n"
   ]
  }
 ],
 "metadata": {
  "kernelspec": {
   "display_name": ".venv",
   "language": "python",
   "name": "python3"
  },
  "language_info": {
   "codemirror_mode": {
    "name": "ipython",
    "version": 3
   },
   "file_extension": ".py",
   "mimetype": "text/x-python",
   "name": "python",
   "nbconvert_exporter": "python",
   "pygments_lexer": "ipython3",
   "version": "3.10.12"
  }
 },
 "nbformat": 4,
 "nbformat_minor": 5
}
