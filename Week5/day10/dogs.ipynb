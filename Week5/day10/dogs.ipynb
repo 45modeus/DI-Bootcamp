{
 "cells": [
  {
   "cell_type": "code",
   "execution_count": 14,
   "id": "f71a3a03",
   "metadata": {},
   "outputs": [
    {
     "name": "stdout",
     "output_type": "stream",
     "text": [
      "Sarah's dog is Furry and is 160cm!\n",
      "David's's dog is Dobby and is 165cm!\n",
      "Furry goes Woof!\n",
      "Dobby jumps in 330 cm!\n",
      "Furry is 5cm shorter than Dobby\n"
     ]
    }
   ],
   "source": [
    "class Dog:\n",
    "    def __init__(self, name, height):\n",
    "        self.name = name\n",
    "        self.height = height\n",
    "\n",
    "    def bark(self):\n",
    "        print(f\"{self.name} goes Woof!\")  \n",
    "\n",
    "    def jump(self):\n",
    "        print(f\"{self.name} jumps in {self.height*2} cm!\")\n",
    "\n",
    "sarahs_dog=Dog('Furry', 160)\n",
    "davids_dog=Dog('Dobby', 165)\n",
    "\n",
    "dogs=[davids_dog, sarahs_dog]\n",
    "\n",
    "print(f\"Sarah's dog is {sarahs_dog.name} and is {sarahs_dog.height}cm!\")\n",
    "\n",
    "print(f\"David's's dog is {davids_dog.name} and is {davids_dog.height}cm!\")\n",
    "\n",
    "sarahs_dog.bark()\n",
    "davids_dog.jump()\n",
    "\n",
    "print(f\"{sarahs_dog.name} is {davids_dog.height - sarahs_dog.height}cm shorter than {davids_dog.name}\")\n",
    "\n",
    "\n",
    "\n",
    "    \n",
    "\n",
    "    "
   ]
  }
 ],
 "metadata": {
  "kernelspec": {
   "display_name": ".venv",
   "language": "python",
   "name": "python3"
  },
  "language_info": {
   "codemirror_mode": {
    "name": "ipython",
    "version": 3
   },
   "file_extension": ".py",
   "mimetype": "text/x-python",
   "name": "python",
   "nbconvert_exporter": "python",
   "pygments_lexer": "ipython3",
   "version": "3.10.12"
  }
 },
 "nbformat": 4,
 "nbformat_minor": 5
}
