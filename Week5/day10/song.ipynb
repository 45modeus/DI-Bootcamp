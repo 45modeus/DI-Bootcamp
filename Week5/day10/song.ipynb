{
 "cells": [
  {
   "cell_type": "code",
   "execution_count": 13,
   "id": "96f9f31c",
   "metadata": {},
   "outputs": [
    {
     "name": "stdout",
     "output_type": "stream",
     "text": [
      "We are the people, by Empire of the Sun: I can't do well, when I think about you leaving, but I know I try!\n"
     ]
    }
   ],
   "source": [
    "class Song:\n",
    "    def __init__(self, lyrics):\n",
    "        self.lyrics = lyrics\n",
    "\n",
    "\n",
    "    def sing_a_song(self):\n",
    "        print(f\"We are the people, by Empire of the Sun: {self.lyrics}\")\n",
    "\n",
    "people = Song(\"I can't do well, \"\n",
    "               \"when I think about you leaving, \"\n",
    "               \"but I know I try!\")\n",
    "\n",
    "sing=[people]\n",
    "\n",
    "people.sing_a_song()"
   ]
  }
 ],
 "metadata": {
  "kernelspec": {
   "display_name": ".venv",
   "language": "python",
   "name": "python3"
  },
  "language_info": {
   "codemirror_mode": {
    "name": "ipython",
    "version": 3
   },
   "file_extension": ".py",
   "mimetype": "text/x-python",
   "name": "python",
   "nbconvert_exporter": "python",
   "pygments_lexer": "ipython3",
   "version": "3.10.12"
  }
 },
 "nbformat": 4,
 "nbformat_minor": 5
}
