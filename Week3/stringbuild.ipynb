{
 "cells": [
  {
   "cell_type": "code",
   "execution_count": 6,
   "id": "35c3a475",
   "metadata": {},
   "outputs": [
    {
     "name": "stdout",
     "output_type": "stream",
     "text": [
      "Perfect string length.\n",
      "First character h\n",
      "Last character: d\n",
      "\n",
      "Building the string character by character:\n",
      "h\n",
      "he\n",
      "hel\n",
      "hell\n",
      "hello\n",
      "hellow\n",
      "hellowo\n",
      "hellowor\n",
      "helloworl\n",
      "helloworld\n",
      "\n",
      "Jumbled string: lhrodlwelo\n"
     ]
    }
   ],
   "source": [
    "import random\n",
    "\n",
    "userInput = input(\"Enter a 10 characters long string: \")\n",
    "\n",
    "if len(userInput) < 10:\n",
    "    print(\"String not long enough.\")\n",
    "elif len(userInput) > 10:\n",
    "    print(\"String is too long.\")\n",
    "else:\n",
    "    print(\"Perfect string length.\")\n",
    "    print(\"First character\", userInput[0])\n",
    "    print(\"Last character:\", userInput[-1])\n",
    "\n",
    "# building string character by character\n",
    "    print(\"\\nBuilding the string character by character:\")\n",
    "    for i in range(1, len(userInput) + 1):\n",
    "        print(userInput[:i])\n",
    "\n",
    "# Jumble the string\n",
    "char_list = list(userInput)\n",
    "random.shuffle(char_list)\n",
    "jumbled_string = ''.join(char_list)\n",
    "print(\"\\nJumbled string:\", jumbled_string)"
   ]
  }
 ],
 "metadata": {
  "kernelspec": {
   "display_name": ".venv",
   "language": "python",
   "name": "python3"
  },
  "language_info": {
   "codemirror_mode": {
    "name": "ipython",
    "version": 3
   },
   "file_extension": ".py",
   "mimetype": "text/x-python",
   "name": "python",
   "nbconvert_exporter": "python",
   "pygments_lexer": "ipython3",
   "version": "3.13.3"
  }
 },
 "nbformat": 4,
 "nbformat_minor": 5
}
