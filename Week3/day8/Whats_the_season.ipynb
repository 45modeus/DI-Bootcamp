{
 "cells": [
  {
   "cell_type": "code",
   "execution_count": 18,
   "id": "005d9c18",
   "metadata": {},
   "outputs": [
    {
     "name": "stdout",
     "output_type": "stream",
     "text": [
      "Please insert a month from 1 - 12\n"
     ]
    }
   ],
   "source": [
    "month = input(\"Please input a month from 1 to 12:\")\n",
    "\n",
    "#spring\n",
    "if month == {3,4,5}:\n",
    "    print(\"This is spring\")\n",
    "\n",
    "#summer\n",
    "elif month == {6,7,8}:\n",
    "    print(\"This is summer\")\n",
    "\n",
    "#autumn\n",
    "elif month == {9,10,11}:\n",
    "    print(\"This is autumn\")\n",
    "\n",
    "#winter\n",
    "elif month == {12,1,2}:\n",
    "    print(\"This is winter\")\n",
    "\n",
    "else:\n",
    "    print(\"Please insert a month from 1 - 12\")"
   ]
  }
 ],
 "metadata": {
  "kernelspec": {
   "display_name": ".venv",
   "language": "python",
   "name": "python3"
  },
  "language_info": {
   "codemirror_mode": {
    "name": "ipython",
    "version": 3
   },
   "file_extension": ".py",
   "mimetype": "text/x-python",
   "name": "python",
   "nbconvert_exporter": "python",
   "pygments_lexer": "ipython3",
   "version": "3.10.12"
  }
 },
 "nbformat": 4,
 "nbformat_minor": 5
}
