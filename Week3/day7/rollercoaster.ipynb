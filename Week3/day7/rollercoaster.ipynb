{
 "cells": [
  {
   "cell_type": "code",
   "execution_count": 2,
   "id": "8ed3cd35",
   "metadata": {},
   "outputs": [
    {
     "name": "stdout",
     "output_type": "stream",
     "text": [
      "Please grow some more to ride the roller coaster!\n"
     ]
    }
   ],
   "source": [
    "lenght = int(input(\"Enter your height in centimeters: \"))\n",
    "\n",
    "if lenght >= 145:\n",
    "    print('You are tall enough to ride')\n",
    "else:\n",
    "    print('Please grow some more to ride the roller coaster!')"
   ]
  }
 ],
 "metadata": {
  "kernelspec": {
   "display_name": "Python 3",
   "language": "python",
   "name": "python3"
  },
  "language_info": {
   "codemirror_mode": {
    "name": "ipython",
    "version": 3
   },
   "file_extension": ".py",
   "mimetype": "text/x-python",
   "name": "python",
   "nbconvert_exporter": "python",
   "pygments_lexer": "ipython3",
   "version": "3.13.3"
  }
 },
 "nbformat": 4,
 "nbformat_minor": 5
}
