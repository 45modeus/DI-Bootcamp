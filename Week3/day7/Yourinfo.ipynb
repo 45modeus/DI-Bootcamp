{
 "cells": [
  {
   "cell_type": "code",
   "execution_count": 2,
   "id": "5291c22a",
   "metadata": {},
   "outputs": [
    {
     "name": "stdout",
     "output_type": "stream",
     "text": [
      "Hi! My name is Laurie I am 23 and my shoe size is 40\n"
     ]
    }
   ],
   "source": [
    "name = \"Laurie\"\n",
    "age = \"23\"\n",
    "shoe_size = \"40\"\n",
    "info = \"Hi! My name is\" + \" \" + name + \" \" + \"I am\" + \" \" + age + \" \" + \"and my shoe size is\" + \" \" + shoe_size\n",
    "\n",
    "print(info)"
   ]
  }
 ],
 "metadata": {
  "kernelspec": {
   "display_name": "Python 3",
   "language": "python",
   "name": "python3"
  },
  "language_info": {
   "codemirror_mode": {
    "name": "ipython",
    "version": 3
   },
   "file_extension": ".py",
   "mimetype": "text/x-python",
   "name": "python",
   "nbconvert_exporter": "python",
   "pygments_lexer": "ipython3",
   "version": "3.13.3"
  }
 },
 "nbformat": 4,
 "nbformat_minor": 5
}
