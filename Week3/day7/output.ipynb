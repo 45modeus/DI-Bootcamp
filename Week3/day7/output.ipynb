{
 "cells": [
  {
   "cell_type": "code",
   "execution_count": 7,
   "id": "e8cc7273",
   "metadata": {},
   "outputs": [
    {
     "name": "stdout",
     "output_type": "stream",
     "text": [
      "False\n",
      "True\n",
      "False\n",
      "False\n"
     ]
    }
   ],
   "source": [
    "# >>> 5 < 3\n",
    "# >>> 3 == 3\n",
    "# >>> 3 == \"3\"\n",
    "# >>> \"3\" > 3\n",
    "# >>> \"Hello\" == \"hello\"\n",
    "\n",
    "codesnippet = 5 < 3\n",
    "print(codesnippet)\n",
    "\n",
    "secondcode = 3 == 3\n",
    "print(secondcode)\n",
    "\n",
    "thirdcode = 3 == \"3\"\n",
    "print(thirdcode)\n",
    "\n",
    "# fourthcode = \"3\" > 3\n",
    "# print(int(fourthcode))\n",
    "\n",
    "fifthcode = \"Hello\" == \"hello\"\n",
    "print(fifthcode)"
   ]
  }
 ],
 "metadata": {
  "kernelspec": {
   "display_name": "Python 3",
   "language": "python",
   "name": "python3"
  },
  "language_info": {
   "codemirror_mode": {
    "name": "ipython",
    "version": 3
   },
   "file_extension": ".py",
   "mimetype": "text/x-python",
   "name": "python",
   "nbconvert_exporter": "python",
   "pygments_lexer": "ipython3",
   "version": "3.13.3"
  }
 },
 "nbformat": 4,
 "nbformat_minor": 5
}
