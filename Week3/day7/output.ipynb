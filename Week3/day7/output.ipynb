{
 "cells": [
  {
   "cell_type": "code",
   "execution_count": 9,
   "id": "e8cc7273",
   "metadata": {},
   "outputs": [
    {
     "name": "stdout",
     "output_type": "stream",
     "text": [
      "False\n",
      "True\n",
      "False\n",
      "False\n",
      "False\n"
     ]
    }
   ],
   "source": [
    "# >>> 5 < 3\n",
    "# >>> 3 == 3\n",
    "# >>> 3 == \"3\"\n",
    "# >>> \"3\" > 3\n",
    "# >>> \"Hello\" == \"hello\"\n",
    "\n",
    "print(5 < 3)\n",
    "\n",
    "print(3 == 3)\n",
    "\n",
    "print(3 == \"3\")\n",
    "\n",
    "print(int(\"3\") > 3)\n",
    "\n",
    "print(\"Hello\" == \"hello\")"
   ]
  }
 ],
 "metadata": {
  "kernelspec": {
   "display_name": "Python 3",
   "language": "python",
   "name": "python3"
  },
  "language_info": {
   "codemirror_mode": {
    "name": "ipython",
    "version": 3
   },
   "file_extension": ".py",
   "mimetype": "text/x-python",
   "name": "python",
   "nbconvert_exporter": "python",
   "pygments_lexer": "ipython3",
   "version": "3.13.3"
  }
 },
 "nbformat": 4,
 "nbformat_minor": 5
}
