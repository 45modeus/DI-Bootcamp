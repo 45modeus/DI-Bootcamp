{
 "cells": [
  {
   "cell_type": "code",
   "execution_count": 5,
   "id": "cd445c75",
   "metadata": {},
   "outputs": [
    {
     "name": "stdout",
     "output_type": "stream",
     "text": [
      "We are twins!\n"
     ]
    }
   ],
   "source": [
    "name = str(input(\"Please Enter your name: \"))\n",
    "\n",
    "if name == \"Laurie\":\n",
    "    print('We are twins!')\n",
    "else:\n",
    "    print('Aww we are now twins')\n",
    "    "
   ]
  },
  {
   "cell_type": "code",
   "execution_count": null,
   "id": "d9be996c",
   "metadata": {},
   "outputs": [],
   "source": []
  },
  {
   "cell_type": "code",
   "execution_count": 6,
   "id": "08f86af8",
   "metadata": {},
   "outputs": [
    {
     "name": "stdout",
     "output_type": "stream",
     "text": [
      "Aww we are now twins\n"
     ]
    }
   ],
   "source": [
    "name = str(input(\"Please Enter your name: \"))\n",
    "\n",
    "if name == \"Laurie\":\n",
    "    print('We are twins!')\n",
    "else:\n",
    "    print('Aww we are now twins')\n",
    "    "
   ]
  }
 ],
 "metadata": {
  "kernelspec": {
   "display_name": "Python 3",
   "language": "python",
   "name": "python3"
  },
  "language_info": {
   "codemirror_mode": {
    "name": "ipython",
    "version": 3
   },
   "file_extension": ".py",
   "mimetype": "text/x-python",
   "name": "python",
   "nbconvert_exporter": "python",
   "pygments_lexer": "ipython3",
   "version": "3.13.3"
  }
 },
 "nbformat": 4,
 "nbformat_minor": 5
}
